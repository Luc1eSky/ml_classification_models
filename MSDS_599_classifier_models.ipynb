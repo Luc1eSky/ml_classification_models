{
 "cells": [
  {
   "cell_type": "markdown",
   "id": "dfbfc8c5",
   "metadata": {},
   "source": [
    "# Home work 3 - ML Classifiers"
   ]
  },
  {
   "cell_type": "markdown",
   "id": "b39d7040",
   "metadata": {},
   "source": [
    " Comparing different classification models to predict a target class.\n"
   ]
  },
  {
   "cell_type": "markdown",
   "id": "25adc3aa",
   "metadata": {},
   "source": [
    "### _1. Read in this file. How many classes are there? How many features are there? Are there any missing entries?_"
   ]
  },
  {
   "cell_type": "code",
   "execution_count": 489,
   "id": "5b19d001",
   "metadata": {},
   "outputs": [],
   "source": [
    "import pandas as pd\n",
    "import numpy as np\n",
    "import matplotlib.pyplot as plt\n",
    "import seaborn as sns"
   ]
  },
  {
   "cell_type": "code",
   "execution_count": 490,
   "id": "c0acc8d4",
   "metadata": {},
   "outputs": [
    {
     "data": {
      "text/html": [
       "<div>\n",
       "<style scoped>\n",
       "    .dataframe tbody tr th:only-of-type {\n",
       "        vertical-align: middle;\n",
       "    }\n",
       "\n",
       "    .dataframe tbody tr th {\n",
       "        vertical-align: top;\n",
       "    }\n",
       "\n",
       "    .dataframe thead th {\n",
       "        text-align: right;\n",
       "    }\n",
       "</style>\n",
       "<table border=\"1\" class=\"dataframe\">\n",
       "  <thead>\n",
       "    <tr style=\"text-align: right;\">\n",
       "      <th></th>\n",
       "      <th>A</th>\n",
       "      <th>B</th>\n",
       "      <th>C</th>\n",
       "      <th>D</th>\n",
       "      <th>E</th>\n",
       "      <th>F</th>\n",
       "      <th>G</th>\n",
       "      <th>H</th>\n",
       "      <th>I</th>\n",
       "      <th>J</th>\n",
       "      <th>Target</th>\n",
       "    </tr>\n",
       "  </thead>\n",
       "  <tbody>\n",
       "    <tr>\n",
       "      <th>0</th>\n",
       "      <td>0.150333</td>\n",
       "      <td>-1.468600</td>\n",
       "      <td>0.420842</td>\n",
       "      <td>-0.878333</td>\n",
       "      <td>-1.348358</td>\n",
       "      <td>0.686323</td>\n",
       "      <td>-0.663374</td>\n",
       "      <td>-2.301067</td>\n",
       "      <td>1.302455</td>\n",
       "      <td>0.320666</td>\n",
       "      <td>2</td>\n",
       "    </tr>\n",
       "    <tr>\n",
       "      <th>1</th>\n",
       "      <td>-1.632086</td>\n",
       "      <td>-0.705800</td>\n",
       "      <td>0.336495</td>\n",
       "      <td>0.024062</td>\n",
       "      <td>-0.493619</td>\n",
       "      <td>-1.534829</td>\n",
       "      <td>-0.024577</td>\n",
       "      <td>-0.296786</td>\n",
       "      <td>0.320047</td>\n",
       "      <td>0.506105</td>\n",
       "      <td>1</td>\n",
       "    </tr>\n",
       "    <tr>\n",
       "      <th>2</th>\n",
       "      <td>-1.285627</td>\n",
       "      <td>1.381077</td>\n",
       "      <td>-0.385668</td>\n",
       "      <td>1.446167</td>\n",
       "      <td>-0.348163</td>\n",
       "      <td>-2.255813</td>\n",
       "      <td>0.272703</td>\n",
       "      <td>-0.964729</td>\n",
       "      <td>-1.515589</td>\n",
       "      <td>0.454248</td>\n",
       "      <td>2</td>\n",
       "    </tr>\n",
       "    <tr>\n",
       "      <th>3</th>\n",
       "      <td>-0.012135</td>\n",
       "      <td>-0.729971</td>\n",
       "      <td>-1.132579</td>\n",
       "      <td>1.076787</td>\n",
       "      <td>1.235348</td>\n",
       "      <td>1.234472</td>\n",
       "      <td>-1.809369</td>\n",
       "      <td>0.735971</td>\n",
       "      <td>-1.349093</td>\n",
       "      <td>-0.061655</td>\n",
       "      <td>0</td>\n",
       "    </tr>\n",
       "    <tr>\n",
       "      <th>4</th>\n",
       "      <td>-1.303877</td>\n",
       "      <td>0.930213</td>\n",
       "      <td>0.801927</td>\n",
       "      <td>-1.750493</td>\n",
       "      <td>0.846840</td>\n",
       "      <td>-0.258996</td>\n",
       "      <td>-0.507816</td>\n",
       "      <td>0.560169</td>\n",
       "      <td>0.583438</td>\n",
       "      <td>-0.472208</td>\n",
       "      <td>0</td>\n",
       "    </tr>\n",
       "  </tbody>\n",
       "</table>\n",
       "</div>"
      ],
      "text/plain": [
       "          A         B         C         D         E         F         G  \\\n",
       "0  0.150333 -1.468600  0.420842 -0.878333 -1.348358  0.686323 -0.663374   \n",
       "1 -1.632086 -0.705800  0.336495  0.024062 -0.493619 -1.534829 -0.024577   \n",
       "2 -1.285627  1.381077 -0.385668  1.446167 -0.348163 -2.255813  0.272703   \n",
       "3 -0.012135 -0.729971 -1.132579  1.076787  1.235348  1.234472 -1.809369   \n",
       "4 -1.303877  0.930213  0.801927 -1.750493  0.846840 -0.258996 -0.507816   \n",
       "\n",
       "          H         I         J  Target  \n",
       "0 -2.301067  1.302455  0.320666       2  \n",
       "1 -0.296786  0.320047  0.506105       1  \n",
       "2 -0.964729 -1.515589  0.454248       2  \n",
       "3  0.735971 -1.349093 -0.061655       0  \n",
       "4  0.560169  0.583438 -0.472208       0  "
      ]
     },
     "execution_count": 490,
     "metadata": {},
     "output_type": "execute_result"
    }
   ],
   "source": [
    "# read in file and use index column\n",
    "df = pd.read_csv('classify_me.csv', index_col=0)\n",
    "df.head()"
   ]
  },
  {
   "cell_type": "code",
   "execution_count": 491,
   "id": "c82e81ee",
   "metadata": {},
   "outputs": [
    {
     "data": {
      "text/plain": [
       "3"
      ]
     },
     "execution_count": 491,
     "metadata": {},
     "output_type": "execute_result"
    }
   ],
   "source": [
    "# number of classes\n",
    "len(pd.unique(df['Target']))"
   ]
  },
  {
   "cell_type": "code",
   "execution_count": 492,
   "id": "6e9f264a",
   "metadata": {},
   "outputs": [
    {
     "data": {
      "text/plain": [
       "array([2, 1, 0])"
      ]
     },
     "execution_count": 492,
     "metadata": {},
     "output_type": "execute_result"
    }
   ],
   "source": [
    "# double-check number of classes\n",
    "df['Target'].unique()"
   ]
  },
  {
   "cell_type": "markdown",
   "id": "d7abfdea",
   "metadata": {},
   "source": [
    "#### _&rarr; There are three classes in the target column, which we are trying to predict based on the features in the data set_"
   ]
  },
  {
   "cell_type": "code",
   "execution_count": 493,
   "id": "bdb2fad8",
   "metadata": {},
   "outputs": [],
   "source": [
    "# number of features\n",
    "features = df.loc[:, df.columns != 'Target']"
   ]
  },
  {
   "cell_type": "code",
   "execution_count": 494,
   "id": "d20851ee",
   "metadata": {},
   "outputs": [
    {
     "data": {
      "text/plain": [
       "10"
      ]
     },
     "execution_count": 494,
     "metadata": {},
     "output_type": "execute_result"
    }
   ],
   "source": [
    "cols = len(features.axes[1])\n",
    "cols"
   ]
  },
  {
   "cell_type": "markdown",
   "id": "85155d80",
   "metadata": {},
   "source": [
    "#### _&rarr; There are ten features in the data set_"
   ]
  },
  {
   "cell_type": "code",
   "execution_count": 495,
   "id": "38fba2b0",
   "metadata": {},
   "outputs": [
    {
     "data": {
      "text/plain": [
       "A         0\n",
       "B         0\n",
       "C         0\n",
       "D         0\n",
       "E         0\n",
       "F         0\n",
       "G         0\n",
       "H         0\n",
       "I         0\n",
       "J         0\n",
       "Target    0\n",
       "dtype: int64"
      ]
     },
     "execution_count": 495,
     "metadata": {},
     "output_type": "execute_result"
    }
   ],
   "source": [
    "# check missing values\n",
    "df.isnull().sum()"
   ]
  },
  {
   "cell_type": "markdown",
   "id": "4035b840",
   "metadata": {},
   "source": [
    "#### _&rarr; No missing entries in data set_"
   ]
  },
  {
   "cell_type": "code",
   "execution_count": 535,
   "id": "15aad581",
   "metadata": {},
   "outputs": [
    {
     "data": {
      "text/plain": [
       "1000"
      ]
     },
     "execution_count": 535,
     "metadata": {},
     "output_type": "execute_result"
    }
   ],
   "source": [
    "len(df['A'])"
   ]
  },
  {
   "cell_type": "markdown",
   "id": "9de3a557",
   "metadata": {},
   "source": [
    "The data set has 1,000 observations"
   ]
  },
  {
   "cell_type": "code",
   "execution_count": 536,
   "id": "8035ed04",
   "metadata": {},
   "outputs": [
    {
     "data": {
      "text/plain": [
       "1    380\n",
       "0    333\n",
       "2    287\n",
       "Name: Target, dtype: int64"
      ]
     },
     "execution_count": 536,
     "metadata": {},
     "output_type": "execute_result"
    }
   ],
   "source": [
    "df['Target'].value_counts()"
   ]
  },
  {
   "cell_type": "markdown",
   "id": "ea98b980",
   "metadata": {},
   "source": [
    "&rarr; The classes are balanced within the data set"
   ]
  },
  {
   "cell_type": "code",
   "execution_count": 537,
   "id": "004954bf",
   "metadata": {},
   "outputs": [
    {
     "data": {
      "text/html": [
       "<div>\n",
       "<style scoped>\n",
       "    .dataframe tbody tr th:only-of-type {\n",
       "        vertical-align: middle;\n",
       "    }\n",
       "\n",
       "    .dataframe tbody tr th {\n",
       "        vertical-align: top;\n",
       "    }\n",
       "\n",
       "    .dataframe thead th {\n",
       "        text-align: right;\n",
       "    }\n",
       "</style>\n",
       "<table border=\"1\" class=\"dataframe\">\n",
       "  <thead>\n",
       "    <tr style=\"text-align: right;\">\n",
       "      <th></th>\n",
       "      <th>A</th>\n",
       "      <th>B</th>\n",
       "      <th>C</th>\n",
       "      <th>D</th>\n",
       "      <th>E</th>\n",
       "      <th>F</th>\n",
       "      <th>G</th>\n",
       "      <th>H</th>\n",
       "      <th>I</th>\n",
       "      <th>J</th>\n",
       "      <th>Target</th>\n",
       "    </tr>\n",
       "  </thead>\n",
       "  <tbody>\n",
       "    <tr>\n",
       "      <th>count</th>\n",
       "      <td>1000.00</td>\n",
       "      <td>1000.00</td>\n",
       "      <td>1000.00</td>\n",
       "      <td>1000.00</td>\n",
       "      <td>1000.00</td>\n",
       "      <td>1000.00</td>\n",
       "      <td>1000.00</td>\n",
       "      <td>1000.00</td>\n",
       "      <td>1000.00</td>\n",
       "      <td>1000.00</td>\n",
       "      <td>1000.00</td>\n",
       "    </tr>\n",
       "    <tr>\n",
       "      <th>mean</th>\n",
       "      <td>0.06</td>\n",
       "      <td>-0.05</td>\n",
       "      <td>0.01</td>\n",
       "      <td>0.02</td>\n",
       "      <td>-0.01</td>\n",
       "      <td>0.01</td>\n",
       "      <td>-0.04</td>\n",
       "      <td>0.02</td>\n",
       "      <td>0.03</td>\n",
       "      <td>0.02</td>\n",
       "      <td>0.95</td>\n",
       "    </tr>\n",
       "    <tr>\n",
       "      <th>std</th>\n",
       "      <td>0.99</td>\n",
       "      <td>1.03</td>\n",
       "      <td>1.00</td>\n",
       "      <td>1.00</td>\n",
       "      <td>0.98</td>\n",
       "      <td>0.99</td>\n",
       "      <td>0.99</td>\n",
       "      <td>1.02</td>\n",
       "      <td>0.99</td>\n",
       "      <td>1.00</td>\n",
       "      <td>0.79</td>\n",
       "    </tr>\n",
       "    <tr>\n",
       "      <th>min</th>\n",
       "      <td>-3.11</td>\n",
       "      <td>-3.89</td>\n",
       "      <td>-3.33</td>\n",
       "      <td>-3.35</td>\n",
       "      <td>-3.06</td>\n",
       "      <td>-3.04</td>\n",
       "      <td>-2.91</td>\n",
       "      <td>-3.08</td>\n",
       "      <td>-3.38</td>\n",
       "      <td>-3.45</td>\n",
       "      <td>0.00</td>\n",
       "    </tr>\n",
       "    <tr>\n",
       "      <th>25%</th>\n",
       "      <td>-0.59</td>\n",
       "      <td>-0.79</td>\n",
       "      <td>-0.67</td>\n",
       "      <td>-0.69</td>\n",
       "      <td>-0.68</td>\n",
       "      <td>-0.65</td>\n",
       "      <td>-0.70</td>\n",
       "      <td>-0.68</td>\n",
       "      <td>-0.64</td>\n",
       "      <td>-0.67</td>\n",
       "      <td>0.00</td>\n",
       "    </tr>\n",
       "    <tr>\n",
       "      <th>50%</th>\n",
       "      <td>0.10</td>\n",
       "      <td>-0.07</td>\n",
       "      <td>0.06</td>\n",
       "      <td>0.03</td>\n",
       "      <td>0.02</td>\n",
       "      <td>0.03</td>\n",
       "      <td>-0.05</td>\n",
       "      <td>0.02</td>\n",
       "      <td>0.03</td>\n",
       "      <td>0.01</td>\n",
       "      <td>1.00</td>\n",
       "    </tr>\n",
       "    <tr>\n",
       "      <th>75%</th>\n",
       "      <td>0.73</td>\n",
       "      <td>0.61</td>\n",
       "      <td>0.71</td>\n",
       "      <td>0.71</td>\n",
       "      <td>0.64</td>\n",
       "      <td>0.67</td>\n",
       "      <td>0.58</td>\n",
       "      <td>0.73</td>\n",
       "      <td>0.75</td>\n",
       "      <td>0.72</td>\n",
       "      <td>2.00</td>\n",
       "    </tr>\n",
       "    <tr>\n",
       "      <th>max</th>\n",
       "      <td>2.93</td>\n",
       "      <td>3.67</td>\n",
       "      <td>3.41</td>\n",
       "      <td>2.96</td>\n",
       "      <td>3.02</td>\n",
       "      <td>3.43</td>\n",
       "      <td>2.81</td>\n",
       "      <td>3.26</td>\n",
       "      <td>3.21</td>\n",
       "      <td>3.12</td>\n",
       "      <td>2.00</td>\n",
       "    </tr>\n",
       "  </tbody>\n",
       "</table>\n",
       "</div>"
      ],
      "text/plain": [
       "             A        B        C        D        E        F        G        H  \\\n",
       "count  1000.00  1000.00  1000.00  1000.00  1000.00  1000.00  1000.00  1000.00   \n",
       "mean      0.06    -0.05     0.01     0.02    -0.01     0.01    -0.04     0.02   \n",
       "std       0.99     1.03     1.00     1.00     0.98     0.99     0.99     1.02   \n",
       "min      -3.11    -3.89    -3.33    -3.35    -3.06    -3.04    -2.91    -3.08   \n",
       "25%      -0.59    -0.79    -0.67    -0.69    -0.68    -0.65    -0.70    -0.68   \n",
       "50%       0.10    -0.07     0.06     0.03     0.02     0.03    -0.05     0.02   \n",
       "75%       0.73     0.61     0.71     0.71     0.64     0.67     0.58     0.73   \n",
       "max       2.93     3.67     3.41     2.96     3.02     3.43     2.81     3.26   \n",
       "\n",
       "             I        J   Target  \n",
       "count  1000.00  1000.00  1000.00  \n",
       "mean      0.03     0.02     0.95  \n",
       "std       0.99     1.00     0.79  \n",
       "min      -3.38    -3.45     0.00  \n",
       "25%      -0.64    -0.67     0.00  \n",
       "50%       0.03     0.01     1.00  \n",
       "75%       0.75     0.72     2.00  \n",
       "max       3.21     3.12     2.00  "
      ]
     },
     "execution_count": 537,
     "metadata": {},
     "output_type": "execute_result"
    }
   ],
   "source": [
    "df.describe().round(2)"
   ]
  },
  {
   "cell_type": "markdown",
   "id": "e4fe8aaf",
   "metadata": {},
   "source": [
    "&rarr; The data set consists of 10 features which are all independent $N(0,1)$ observations"
   ]
  },
  {
   "cell_type": "markdown",
   "id": "d1c0b158",
   "metadata": {},
   "source": [
    "### _2. Split into training and test sets (30% test set). Use random_state=5 so your splits are reproducible._"
   ]
  },
  {
   "cell_type": "code",
   "execution_count": 499,
   "id": "71b91cd7",
   "metadata": {},
   "outputs": [],
   "source": [
    "from sklearn.model_selection import cross_validate\n",
    "from sklearn.model_selection import train_test_split\n",
    "from sklearn.metrics import mean_squared_error\n",
    "from sklearn import datasets\n",
    "from sklearn.metrics import accuracy_score"
   ]
  },
  {
   "cell_type": "code",
   "execution_count": 500,
   "id": "3de38123",
   "metadata": {},
   "outputs": [],
   "source": [
    "# import packages used for the classifiers\n",
    "from sklearn.model_selection import cross_validate\n",
    "from sklearn.model_selection import train_test_split\n",
    "from sklearn.metrics import mean_squared_error\n",
    "from sklearn import datasets\n",
    "from sklearn.neighbors import KNeighborsClassifier\n",
    "from sklearn.preprocessing import StandardScaler"
   ]
  },
  {
   "cell_type": "code",
   "execution_count": 501,
   "id": "9f0eec49",
   "metadata": {},
   "outputs": [],
   "source": [
    "from sklearn import tree\n",
    "from sklearn.tree import export_text\n",
    "from sklearn.ensemble import BaggingClassifier\n",
    "from sklearn.ensemble import RandomForestClassifier"
   ]
  },
  {
   "cell_type": "code",
   "execution_count": 502,
   "id": "95979d13",
   "metadata": {},
   "outputs": [],
   "source": [
    "# split into training and test data\n",
    "X=df.drop('Target',axis=1)\n",
    "y=df['Target']\n",
    "X_train, X_test, y_train, y_test = train_test_split(X,y,test_size=0.3, random_state=5)"
   ]
  },
  {
   "cell_type": "markdown",
   "id": "794a25f8",
   "metadata": {},
   "source": [
    "### _3. Use all the features to build a classifier on the training set. Try bagging, random forest, boosting, and k-nearest neighbors._"
   ]
  },
  {
   "cell_type": "markdown",
   "id": "c2abad4b",
   "metadata": {},
   "source": [
    "For knn, cross validate the number of neighbors you use. In your random forest implementation, build the trees deep -- that is, do not set a value for max_depth. For bagging and random forest,  cross validate the number of trees you use (given by the n_estimators parameter). In all three models, set random_state=5 so the results are reproducible. "
   ]
  },
  {
   "cell_type": "markdown",
   "id": "8ba27327",
   "metadata": {},
   "source": [
    "#### _3.1 Bagging (Bootstrapping and Aggregate)_"
   ]
  },
  {
   "cell_type": "markdown",
   "id": "3d9495f2",
   "metadata": {},
   "source": [
    "For bagging and random forest,  cross validate the number of trees you use (given by the n_estimators parameter)."
   ]
  },
  {
   "cell_type": "code",
   "execution_count": 503,
   "id": "e2c8770c",
   "metadata": {},
   "outputs": [
    {
     "data": {
      "text/plain": [
       "array([100., 150., 200., 250., 300., 350., 400., 450., 500.])"
      ]
     },
     "execution_count": 503,
     "metadata": {},
     "output_type": "execute_result"
    }
   ],
   "source": [
    "# creates a list of trees from 50 to 500\n",
    "num_trees=np.linspace(100,500,9)\n",
    "num_trees"
   ]
  },
  {
   "cell_type": "code",
   "execution_count": 504,
   "id": "13336a25",
   "metadata": {},
   "outputs": [],
   "source": [
    "# using cross validation to pick the optimal number of trees\n",
    "bagging_results=[]\n",
    "for trs in num_trees:\n",
    "    bagging_clf = BaggingClassifier(base_estimator=DecisionTreeClassifier(),n_estimators=int(trs),random_state=5)\n",
    "    bagging_cv_clf = cross_validate(bagging_clf, X_train, y_train, cv=5, scoring='accuracy')\n",
    "    bagging_results.append(bagging_cv_clf['test_score'].mean())"
   ]
  },
  {
   "cell_type": "code",
   "execution_count": 505,
   "id": "25d9cfe7",
   "metadata": {},
   "outputs": [
    {
     "data": {
      "image/png": "[encoded data removed]",
      "text/plain": [
       "<Figure size 432x288 with 1 Axes>"
      ]
     },
     "metadata": {
      "needs_background": "light"
     },
     "output_type": "display_data"
    }
   ],
   "source": [
    "# plot average test score over the list of different amounts of trees\n",
    "plt.plot(num_trees,bagging_results)\n",
    "plt.show()"
   ]
  },
  {
   "cell_type": "code",
   "execution_count": 506,
   "id": "089b80dd",
   "metadata": {},
   "outputs": [
    {
     "data": {
      "text/plain": [
       "150.0"
      ]
     },
     "execution_count": 506,
     "metadata": {},
     "output_type": "execute_result"
    }
   ],
   "source": [
    "num_trees[np.argmax(bagging_results)]"
   ]
  },
  {
   "cell_type": "code",
   "execution_count": 507,
   "id": "91d8455b",
   "metadata": {},
   "outputs": [],
   "source": [
    "opt_trees = num_trees[np.argmax(score)]"
   ]
  },
  {
   "cell_type": "code",
   "execution_count": 508,
   "id": "abd7d2c2",
   "metadata": {},
   "outputs": [],
   "source": [
    "bagging_clf = BaggingClassifier(base_estimator=DecisionTreeClassifier(),n_estimators=opt_trs,random_state=5).fit(X_train, y_train)"
   ]
  },
  {
   "cell_type": "code",
   "execution_count": 509,
   "id": "35a80e5a",
   "metadata": {},
   "outputs": [
    {
     "data": {
      "text/plain": [
       "0.637"
      ]
     },
     "execution_count": 509,
     "metadata": {},
     "output_type": "execute_result"
    }
   ],
   "source": [
    "np.round(bagging_clf.score(X_test,y_test),3)"
   ]
  },
  {
   "cell_type": "markdown",
   "id": "703eb4b2",
   "metadata": {},
   "source": [
    "### <font color=red>&rarr; Accuracy Score for the bagging classifier with 150 trees = 0.637</font>"
   ]
  },
  {
   "cell_type": "markdown",
   "id": "42ee5432",
   "metadata": {},
   "source": [
    "### _3.2 Random Forest_"
   ]
  },
  {
   "cell_type": "markdown",
   "id": "6f3a875f",
   "metadata": {},
   "source": [
    "For bagging and random forest, cross validate the number of trees you use (given by the n_estimators parameter)."
   ]
  },
  {
   "cell_type": "code",
   "execution_count": 510,
   "id": "8a15295a",
   "metadata": {},
   "outputs": [],
   "source": [
    "rf_res=[]\n",
    "for trs in num_trees:\n",
    "    rfc = RandomForestClassifier(n_estimators=int(trs),max_features='sqrt',random_state=5).fit(X_train,y_train)\n",
    "    cv_rfc = cross_validate(rfc, X_train, y_train, cv=5, scoring='accuracy')\n",
    "    rf_res.append(cv_rfc['test_score'].mean())"
   ]
  },
  {
   "cell_type": "code",
   "execution_count": 511,
   "id": "2e7b69e1",
   "metadata": {},
   "outputs": [
    {
     "data": {
      "image/png": "[encoded data removed]",
      "text/plain": [
       "<Figure size 432x288 with 1 Axes>"
      ]
     },
     "metadata": {
      "needs_background": "light"
     },
     "output_type": "display_data"
    }
   ],
   "source": [
    "# plot average test score over the list of different amounts of trees\n",
    "plt.plot(num_trees,rf_res)\n",
    "plt.show()"
   ]
  },
  {
   "cell_type": "code",
   "execution_count": 512,
   "id": "8c891132",
   "metadata": {},
   "outputs": [
    {
     "data": {
      "text/plain": [
       "250.0"
      ]
     },
     "execution_count": 512,
     "metadata": {},
     "output_type": "execute_result"
    }
   ],
   "source": [
    "num_trees[np.argmax(rf_res)]"
   ]
  },
  {
   "cell_type": "code",
   "execution_count": 513,
   "id": "027c9268",
   "metadata": {},
   "outputs": [],
   "source": [
    "opt_trs=int(num_trees[np.argmax(rf_res)])"
   ]
  },
  {
   "cell_type": "code",
   "execution_count": 514,
   "id": "f353df7b",
   "metadata": {},
   "outputs": [],
   "source": [
    "rf_clf = RandomForestClassifier(n_estimators=opt_trs,max_features='sqrt',random_state=5).fit(X_train,y_train)"
   ]
  },
  {
   "cell_type": "code",
   "execution_count": 515,
   "id": "2416a25c",
   "metadata": {},
   "outputs": [
    {
     "data": {
      "text/plain": [
       "0.647"
      ]
     },
     "execution_count": 515,
     "metadata": {},
     "output_type": "execute_result"
    }
   ],
   "source": [
    "np.round(accuracy_score(rf_clf.predict(X_test),y_test),3)"
   ]
  },
  {
   "cell_type": "markdown",
   "id": "cdadd142",
   "metadata": {},
   "source": [
    "### <font color=red>&rarr; Accuracy Score for the Random Forest classifier with 250 trees = 0.647</font>"
   ]
  },
  {
   "cell_type": "markdown",
   "id": "b7b6ad4e",
   "metadata": {},
   "source": [
    "### _3.3 Boosting_"
   ]
  },
  {
   "cell_type": "markdown",
   "id": "3add6931",
   "metadata": {},
   "source": [
    "For your boosting model, validate all of the parameters: n_estimators, learning_rate, and max_depth. "
   ]
  },
  {
   "cell_type": "code",
   "execution_count": 516,
   "id": "8e190ae4",
   "metadata": {},
   "outputs": [],
   "source": [
    "from sklearn.model_selection import GridSearchCV\n",
    "from sklearn.ensemble import BaggingClassifier\n",
    "from sklearn.ensemble import RandomForestClassifier\n",
    "from sklearn.ensemble import GradientBoostingClassifier\n",
    "from sklearn.tree import DecisionTreeClassifier"
   ]
  },
  {
   "cell_type": "code",
   "execution_count": 517,
   "id": "097e49a0",
   "metadata": {},
   "outputs": [],
   "source": [
    "parameters = {'learning_rate':[0.1,0.01], 'n_estimators':[300,400,500,600],'max_depth':[2,3,4,5]}"
   ]
  },
  {
   "cell_type": "code",
   "execution_count": 518,
   "id": "6f528c3e",
   "metadata": {},
   "outputs": [],
   "source": [
    "bmod = GradientBoostingClassifier(random_state=5)"
   ]
  },
  {
   "cell_type": "code",
   "execution_count": 519,
   "id": "518ae9db",
   "metadata": {},
   "outputs": [
    {
     "data": {
      "text/plain": [
       "GridSearchCV(estimator=GradientBoostingClassifier(random_state=5),\n",
       "             param_grid={'learning_rate': [0.1, 0.01],\n",
       "                         'max_depth': [2, 3, 4, 5],\n",
       "                         'n_estimators': [300, 400, 500, 600]})"
      ]
     },
     "execution_count": 519,
     "metadata": {},
     "output_type": "execute_result"
    }
   ],
   "source": [
    "boost_clf = GridSearchCV(bmod, parameters)\n",
    "boost_clf.fit(X_train, y_train)"
   ]
  },
  {
   "cell_type": "code",
   "execution_count": 520,
   "id": "699046dc",
   "metadata": {},
   "outputs": [
    {
     "data": {
      "text/html": [
       "<div>\n",
       "<style scoped>\n",
       "    .dataframe tbody tr th:only-of-type {\n",
       "        vertical-align: middle;\n",
       "    }\n",
       "\n",
       "    .dataframe tbody tr th {\n",
       "        vertical-align: top;\n",
       "    }\n",
       "\n",
       "    .dataframe thead th {\n",
       "        text-align: right;\n",
       "    }\n",
       "</style>\n",
       "<table border=\"1\" class=\"dataframe\">\n",
       "  <thead>\n",
       "    <tr style=\"text-align: right;\">\n",
       "      <th></th>\n",
       "      <th>mean_fit_time</th>\n",
       "      <th>std_fit_time</th>\n",
       "      <th>mean_score_time</th>\n",
       "      <th>std_score_time</th>\n",
       "      <th>param_learning_rate</th>\n",
       "      <th>param_max_depth</th>\n",
       "      <th>param_n_estimators</th>\n",
       "      <th>params</th>\n",
       "      <th>split0_test_score</th>\n",
       "      <th>split1_test_score</th>\n",
       "      <th>split2_test_score</th>\n",
       "      <th>split3_test_score</th>\n",
       "      <th>split4_test_score</th>\n",
       "      <th>mean_test_score</th>\n",
       "      <th>std_test_score</th>\n",
       "      <th>rank_test_score</th>\n",
       "    </tr>\n",
       "  </thead>\n",
       "  <tbody>\n",
       "    <tr>\n",
       "      <th>0</th>\n",
       "      <td>0.900415</td>\n",
       "      <td>0.007705</td>\n",
       "      <td>0.001766</td>\n",
       "      <td>0.000046</td>\n",
       "      <td>0.1</td>\n",
       "      <td>2</td>\n",
       "      <td>300</td>\n",
       "      <td>{'learning_rate': 0.1, 'max_depth': 2, 'n_esti...</td>\n",
       "      <td>0.721429</td>\n",
       "      <td>0.750000</td>\n",
       "      <td>0.742857</td>\n",
       "      <td>0.714286</td>\n",
       "      <td>0.735714</td>\n",
       "      <td>0.732857</td>\n",
       "      <td>0.013248</td>\n",
       "      <td>4</td>\n",
       "    </tr>\n",
       "    <tr>\n",
       "      <th>1</th>\n",
       "      <td>1.199538</td>\n",
       "      <td>0.006994</td>\n",
       "      <td>0.002043</td>\n",
       "      <td>0.000045</td>\n",
       "      <td>0.1</td>\n",
       "      <td>2</td>\n",
       "      <td>400</td>\n",
       "      <td>{'learning_rate': 0.1, 'max_depth': 2, 'n_esti...</td>\n",
       "      <td>0.714286</td>\n",
       "      <td>0.750000</td>\n",
       "      <td>0.742857</td>\n",
       "      <td>0.714286</td>\n",
       "      <td>0.764286</td>\n",
       "      <td>0.737143</td>\n",
       "      <td>0.019898</td>\n",
       "      <td>2</td>\n",
       "    </tr>\n",
       "    <tr>\n",
       "      <th>2</th>\n",
       "      <td>1.498915</td>\n",
       "      <td>0.004655</td>\n",
       "      <td>0.002314</td>\n",
       "      <td>0.000048</td>\n",
       "      <td>0.1</td>\n",
       "      <td>2</td>\n",
       "      <td>500</td>\n",
       "      <td>{'learning_rate': 0.1, 'max_depth': 2, 'n_esti...</td>\n",
       "      <td>0.728571</td>\n",
       "      <td>0.735714</td>\n",
       "      <td>0.728571</td>\n",
       "      <td>0.721429</td>\n",
       "      <td>0.778571</td>\n",
       "      <td>0.738571</td>\n",
       "      <td>0.020504</td>\n",
       "      <td>1</td>\n",
       "    </tr>\n",
       "    <tr>\n",
       "      <th>3</th>\n",
       "      <td>1.826102</td>\n",
       "      <td>0.026356</td>\n",
       "      <td>0.002652</td>\n",
       "      <td>0.000127</td>\n",
       "      <td>0.1</td>\n",
       "      <td>2</td>\n",
       "      <td>600</td>\n",
       "      <td>{'learning_rate': 0.1, 'max_depth': 2, 'n_esti...</td>\n",
       "      <td>0.728571</td>\n",
       "      <td>0.728571</td>\n",
       "      <td>0.735714</td>\n",
       "      <td>0.721429</td>\n",
       "      <td>0.771429</td>\n",
       "      <td>0.737143</td>\n",
       "      <td>0.017728</td>\n",
       "      <td>2</td>\n",
       "    </tr>\n",
       "    <tr>\n",
       "      <th>4</th>\n",
       "      <td>1.264653</td>\n",
       "      <td>0.001167</td>\n",
       "      <td>0.002181</td>\n",
       "      <td>0.000031</td>\n",
       "      <td>0.1</td>\n",
       "      <td>3</td>\n",
       "      <td>300</td>\n",
       "      <td>{'learning_rate': 0.1, 'max_depth': 3, 'n_esti...</td>\n",
       "      <td>0.707143</td>\n",
       "      <td>0.685714</td>\n",
       "      <td>0.721429</td>\n",
       "      <td>0.671429</td>\n",
       "      <td>0.764286</td>\n",
       "      <td>0.710000</td>\n",
       "      <td>0.032135</td>\n",
       "      <td>6</td>\n",
       "    </tr>\n",
       "  </tbody>\n",
       "</table>\n",
       "</div>"
      ],
      "text/plain": [
       "   mean_fit_time  std_fit_time  mean_score_time  std_score_time  \\\n",
       "0       0.900415      0.007705         0.001766        0.000046   \n",
       "1       1.199538      0.006994         0.002043        0.000045   \n",
       "2       1.498915      0.004655         0.002314        0.000048   \n",
       "3       1.826102      0.026356         0.002652        0.000127   \n",
       "4       1.264653      0.001167         0.002181        0.000031   \n",
       "\n",
       "  param_learning_rate param_max_depth param_n_estimators  \\\n",
       "0                 0.1               2                300   \n",
       "1                 0.1               2                400   \n",
       "2                 0.1               2                500   \n",
       "3                 0.1               2                600   \n",
       "4                 0.1               3                300   \n",
       "\n",
       "                                              params  split0_test_score  \\\n",
       "0  {'learning_rate': 0.1, 'max_depth': 2, 'n_esti...           0.721429   \n",
       "1  {'learning_rate': 0.1, 'max_depth': 2, 'n_esti...           0.714286   \n",
       "2  {'learning_rate': 0.1, 'max_depth': 2, 'n_esti...           0.728571   \n",
       "3  {'learning_rate': 0.1, 'max_depth': 2, 'n_esti...           0.728571   \n",
       "4  {'learning_rate': 0.1, 'max_depth': 3, 'n_esti...           0.707143   \n",
       "\n",
       "   split1_test_score  split2_test_score  split3_test_score  split4_test_score  \\\n",
       "0           0.750000           0.742857           0.714286           0.735714   \n",
       "1           0.750000           0.742857           0.714286           0.764286   \n",
       "2           0.735714           0.728571           0.721429           0.778571   \n",
       "3           0.728571           0.735714           0.721429           0.771429   \n",
       "4           0.685714           0.721429           0.671429           0.764286   \n",
       "\n",
       "   mean_test_score  std_test_score  rank_test_score  \n",
       "0         0.732857        0.013248                4  \n",
       "1         0.737143        0.019898                2  \n",
       "2         0.738571        0.020504                1  \n",
       "3         0.737143        0.017728                2  \n",
       "4         0.710000        0.032135                6  "
      ]
     },
     "execution_count": 520,
     "metadata": {},
     "output_type": "execute_result"
    }
   ],
   "source": [
    "boosting_df=pd.DataFrame.from_dict(boost_clf.cv_results_)\n",
    "boosting_df.head()"
   ]
  },
  {
   "cell_type": "code",
   "execution_count": 521,
   "id": "a7e04c91",
   "metadata": {},
   "outputs": [
    {
     "data": {
      "text/html": [
       "<div>\n",
       "<style scoped>\n",
       "    .dataframe tbody tr th:only-of-type {\n",
       "        vertical-align: middle;\n",
       "    }\n",
       "\n",
       "    .dataframe tbody tr th {\n",
       "        vertical-align: top;\n",
       "    }\n",
       "\n",
       "    .dataframe thead th {\n",
       "        text-align: right;\n",
       "    }\n",
       "</style>\n",
       "<table border=\"1\" class=\"dataframe\">\n",
       "  <thead>\n",
       "    <tr style=\"text-align: right;\">\n",
       "      <th></th>\n",
       "      <th>mean_fit_time</th>\n",
       "      <th>std_fit_time</th>\n",
       "      <th>mean_score_time</th>\n",
       "      <th>std_score_time</th>\n",
       "      <th>param_learning_rate</th>\n",
       "      <th>param_max_depth</th>\n",
       "      <th>param_n_estimators</th>\n",
       "      <th>params</th>\n",
       "      <th>split0_test_score</th>\n",
       "      <th>split1_test_score</th>\n",
       "      <th>split2_test_score</th>\n",
       "      <th>split3_test_score</th>\n",
       "      <th>split4_test_score</th>\n",
       "      <th>mean_test_score</th>\n",
       "      <th>std_test_score</th>\n",
       "      <th>rank_test_score</th>\n",
       "    </tr>\n",
       "  </thead>\n",
       "  <tbody>\n",
       "    <tr>\n",
       "      <th>2</th>\n",
       "      <td>1.498915</td>\n",
       "      <td>0.004655</td>\n",
       "      <td>0.002314</td>\n",
       "      <td>0.000048</td>\n",
       "      <td>0.1</td>\n",
       "      <td>2</td>\n",
       "      <td>500</td>\n",
       "      <td>{'learning_rate': 0.1, 'max_depth': 2, 'n_esti...</td>\n",
       "      <td>0.728571</td>\n",
       "      <td>0.735714</td>\n",
       "      <td>0.728571</td>\n",
       "      <td>0.721429</td>\n",
       "      <td>0.778571</td>\n",
       "      <td>0.738571</td>\n",
       "      <td>0.020504</td>\n",
       "      <td>1</td>\n",
       "    </tr>\n",
       "  </tbody>\n",
       "</table>\n",
       "</div>"
      ],
      "text/plain": [
       "   mean_fit_time  std_fit_time  mean_score_time  std_score_time  \\\n",
       "2       1.498915      0.004655         0.002314        0.000048   \n",
       "\n",
       "  param_learning_rate param_max_depth param_n_estimators  \\\n",
       "2                 0.1               2                500   \n",
       "\n",
       "                                              params  split0_test_score  \\\n",
       "2  {'learning_rate': 0.1, 'max_depth': 2, 'n_esti...           0.728571   \n",
       "\n",
       "   split1_test_score  split2_test_score  split3_test_score  split4_test_score  \\\n",
       "2           0.735714           0.728571           0.721429           0.778571   \n",
       "\n",
       "   mean_test_score  std_test_score  rank_test_score  \n",
       "2         0.738571        0.020504                1  "
      ]
     },
     "execution_count": 521,
     "metadata": {},
     "output_type": "execute_result"
    }
   ],
   "source": [
    "boosting_df[boosting_df['mean_test_score']==boosting_df['mean_test_score'].max()]"
   ]
  },
  {
   "cell_type": "code",
   "execution_count": 522,
   "id": "1837ef25",
   "metadata": {},
   "outputs": [],
   "source": [
    "best_boosting_clf = GradientBoostingClassifier(random_state=5,learning_rate=0.1,n_estimators=500,max_depth=2).fit(X_train,y_train)"
   ]
  },
  {
   "cell_type": "code",
   "execution_count": 523,
   "id": "744084a0",
   "metadata": {},
   "outputs": [
    {
     "data": {
      "text/plain": [
       "0.73"
      ]
     },
     "execution_count": 523,
     "metadata": {},
     "output_type": "execute_result"
    }
   ],
   "source": [
    "np.round(best_boosting_clf.score(X_test,y_test),3)"
   ]
  },
  {
   "cell_type": "markdown",
   "id": "61adb639",
   "metadata": {},
   "source": [
    "### <font color=red>&rarr; Accuracy Score for the boosting classifier with 500 trees, a learning rate of 0.1 and a tree depth of 2 = 0.73</font>"
   ]
  },
  {
   "cell_type": "markdown",
   "id": "c759ed9e",
   "metadata": {},
   "source": [
    "###  _3.4 K-nearest Neighbors_"
   ]
  },
  {
   "cell_type": "markdown",
   "id": "46e23d08",
   "metadata": {},
   "source": [
    "For knn, cross validate the number of neighbors you use."
   ]
  },
  {
   "cell_type": "code",
   "execution_count": 524,
   "id": "17eb24cf",
   "metadata": {},
   "outputs": [],
   "source": [
    "# Standardize the data\n",
    "scaler=StandardScaler()\n",
    "X_train_scaled=scaler.fit_transform(X_train)\n",
    "X_test_scaled=scaler.fit_transform(X_test)"
   ]
  },
  {
   "cell_type": "code",
   "execution_count": 525,
   "id": "bd9841ff",
   "metadata": {},
   "outputs": [],
   "source": [
    "#Create a list to store the results\n",
    "cvres_knn=[]\n",
    "# Run through various values for k: use 5-fold cross validation, score with accuracy\n",
    "for i in range(1,20):\n",
    "    clf_knn = KNeighborsClassifier(n_neighbors=i)\n",
    "    clf_cv_knn = cross_validate(clf_knn, X_train_scaled, y_train, cv=5, scoring='accuracy')\n",
    "    #The test score gives an list of the accuracy on each of the five the test-folds\n",
    "    cvres_knn.append(clf_cv_knn['test_score'].mean())"
   ]
  },
  {
   "cell_type": "code",
   "execution_count": 526,
   "id": "56a5b2b9",
   "metadata": {},
   "outputs": [
    {
     "data": {
      "image/png": "[encoded data removed]",
      "text/plain": [
       "<Figure size 720x576 with 1 Axes>"
      ]
     },
     "metadata": {
      "needs_background": "light"
     },
     "output_type": "display_data"
    }
   ],
   "source": [
    "# plot the results for finding the optimal number of k\n",
    "plt.figure(figsize=(10, 8))\n",
    "plt.plot(list(range(1,20)),cvres_knn,linewidth=2)\n",
    "plt.ylim(.38,.47)\n",
    "plt.xlabel('neighbors')\n",
    "plt.ylabel('Accuracy')\n",
    "plt.show()"
   ]
  },
  {
   "cell_type": "code",
   "execution_count": 527,
   "id": "9a7c175c",
   "metadata": {},
   "outputs": [
    {
     "name": "stdout",
     "output_type": "stream",
     "text": [
      "1\n"
     ]
    }
   ],
   "source": [
    "print(np.argmax(cvres_knn))\n",
    "optimal_k = np.argmax(cvres_knn) + 1"
   ]
  },
  {
   "cell_type": "markdown",
   "id": "3c57db38",
   "metadata": {},
   "source": [
    "max at k = 2"
   ]
  },
  {
   "cell_type": "code",
   "execution_count": 528,
   "id": "9f290b79",
   "metadata": {},
   "outputs": [
    {
     "data": {
      "text/plain": [
       "(True, True)"
      ]
     },
     "execution_count": 528,
     "metadata": {},
     "output_type": "execute_result"
    }
   ],
   "source": [
    "np.allclose(np.mean(X_train_scaled,axis=0),0),np.allclose(np.std(X_train_scaled,axis=0),1)"
   ]
  },
  {
   "cell_type": "code",
   "execution_count": 529,
   "id": "21193f1e",
   "metadata": {},
   "outputs": [],
   "source": [
    "best_mod_knn = KNeighborsClassifier(n_neighbors=optimal_k)\n",
    "best_knn_2=mod.fit(X_train,y_train)"
   ]
  },
  {
   "cell_type": "code",
   "execution_count": 530,
   "id": "b6676bc7",
   "metadata": {},
   "outputs": [
    {
     "data": {
      "text/plain": [
       "0.47"
      ]
     },
     "execution_count": 530,
     "metadata": {},
     "output_type": "execute_result"
    }
   ],
   "source": [
    "np.round(accuracy_score(best_knn_2.predict(X_test),y_test),3)"
   ]
  },
  {
   "cell_type": "markdown",
   "id": "51377929",
   "metadata": {},
   "source": [
    "### <font color=red>&rarr; Accuracy Score for KNN with 2 neighbors = 0.47</font>"
   ]
  },
  {
   "cell_type": "markdown",
   "id": "fca4c43b",
   "metadata": {},
   "source": [
    "### 4. Comment on which model gives the best results on the test set. For the best model, comment on feature importances (if relevant)."
   ]
  },
  {
   "cell_type": "markdown",
   "id": "956d12fa",
   "metadata": {},
   "source": [
    "The boosting model performs the best with an accuracy score of 0.73."
   ]
  },
  {
   "cell_type": "code",
   "execution_count": 531,
   "id": "deaec46c",
   "metadata": {},
   "outputs": [
    {
     "data": {
      "image/png": "[encoded data removed]",
      "text/plain": [
       "<Figure size 576x432 with 1 Axes>"
      ]
     },
     "metadata": {
      "needs_background": "light"
     },
     "output_type": "display_data"
    }
   ],
   "source": [
    "plt.figure(figsize=(8,6))\n",
    "nfeat=X.shape[1]\n",
    "plt.barh(np.arange(nfeat),best_boosting_clf.feature_importances_,align='center')\n",
    "plt.yticks(np.arange(nfeat),list(X.columns))\n",
    "plt.ylim(-1,nfeat)\n",
    "plt.show()"
   ]
  },
  {
   "cell_type": "code",
   "execution_count": 532,
   "id": "6004a3cd",
   "metadata": {},
   "outputs": [
    {
     "name": "stdout",
     "output_type": "stream",
     "text": [
      "[0.08177854 0.10943942 0.09569795 0.10293385 0.0825274  0.08456866\n",
      " 0.12078882 0.13488218 0.09155215 0.09583102]\n"
     ]
    }
   ],
   "source": [
    "print(best_boosting_clf.feature_importances_)"
   ]
  },
  {
   "cell_type": "markdown",
   "id": "e6a699f1",
   "metadata": {},
   "source": [
    "The feature importance is not relevant in this case, because the features are all independent $N(0,1)$ observations, which were then classifier as class 0,1,2 based on the some of the 10 features in an observation. "
   ]
  },
  {
   "cell_type": "code",
   "execution_count": null,
   "id": "c27f6966",
   "metadata": {},
   "outputs": [],
   "source": []
  }
 ],
 "metadata": {
  "kernelspec": {
   "display_name": "Python 3 (ipykernel)",
   "language": "python",
   "name": "python3"
  },
  "language_info": {
   "codemirror_mode": {
    "name": "ipython",
    "version": 3
   },
   "file_extension": ".py",
   "mimetype": "text/x-python",
   "name": "python",
   "nbconvert_exporter": "python",
   "pygments_lexer": "ipython3",
   "version": "3.9.12"
  }
 },
 "nbformat": 4,
 "nbformat_minor": 5
}
